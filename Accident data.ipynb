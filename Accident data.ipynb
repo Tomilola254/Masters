{
  "cells": [
    {
      "cell_type": "markdown",
      "metadata": {
        "id": "okq0uGkOfnMF"
      },
      "source": [
        "## EDA"
      ]
    },
    {
      "cell_type": "code",
      "execution_count": null,
      "metadata": {},
      "outputs": [],
      "source": [
        "! pip install statsmodels"
      ]
    },
    {
      "cell_type": "code",
      "execution_count": 148,
      "metadata": {
        "id": "3uGPcCpLffXf"
      },
      "outputs": [],
      "source": [
        "import pandas as pd\n",
        "import csv\n",
        "import numpy as np\n",
        "import matplotlib.pyplot as plt\n",
        "import seaborn as sns\n",
        "import warnings\n",
        "import matplotlib.ticker as ticker\n",
        "import matplotlib.cm as cm\n",
        "import matplotlib as mpl\n",
        "from datetime import datetime\n",
        "from matplotlib.gridspec import GridSpec\n",
        "\n",
        "\n",
        "import scipy.stats as stats\n",
        "import statsmodels.api as sm\n",
        "\n",
        "\n",
        "from scipy.stats import f_oneway\n",
        "from scipy.stats import chi2_contingency\n",
        "from statsmodels.formula.api import ols\n",
        "\n",
        "import warnings\n",
        "from typing import List, Optional\n",
        "\n",
        "pd.set_option('max_columns', None)\n",
        "pd.set_option('max_rows', None)\n",
        "pd.options.display.float_format = \"{:,.2f}\".format\n",
        "\n",
        "\n",
        "warnings.filterwarnings('ignore')\n",
        "\n",
        "\n",
        "\n",
        "#helper functions for plotting\n",
        "\n",
        "\n",
        "def plot_count(col_list: List[str], \n",
        "              df:pd.DataFrame, \n",
        "               hue: Optional[str] = None):\n",
        "\n",
        "    for col in col_list:\n",
        "        plt.figure(figsize=(20, 5))\n",
        "        sns.countplot(x=col, data=df,\n",
        "                     hue=hue, order=df[col].value_counts().index)\n",
        "        plt.title(f\"{col} distribution\")\n",
        "        plt.show()\n",
        "\n",
        "\n",
        "def plot_hist_count(col_list: List[str],\n",
        "               df: pd.DataFrame,\n",
        "               hue: Optional[str] = None, \n",
        "               stat:Optional[str] = None,\n",
        "               multiple:Optional[str] = None):\n",
        "\n",
        "    for col in col_list:\n",
        "        plt.figure(figsize=(20, 5))\n",
        "        sns.histplot(x=col, data=df,\n",
        "                      hue=hue, stat=stat, \n",
        "                      multiple=multiple)\n",
        "        plt.title(f\"cat plot for {col} distribution\")\n",
        "        plt.show()\n",
        "\n",
        "\n",
        "def merge_cols_use(cols_list: List[str],\n",
        "                   primary_df: pd.DataFrame,\n",
        "                   secondary_df: pd.DataFrame):\n",
        "\n",
        "    check_cols = cols_list\n",
        "    cols_checked_df = primary_df[check_cols]\n",
        "    final_df = pd.concat([secondary_df, cols_checked_df], axis=1)\n",
        "    final_df.dropna(inplace=True)\n",
        "\n",
        "    return final_df\n"
      ]
    },
    {
      "cell_type": "code",
      "execution_count": null,
      "metadata": {
        "id": "2CI7hrj3ffit"
      },
      "outputs": [],
      "source": [
        "accident_df = pd.read_csv('Road Safety Data - Accidents 2019.csv')\n",
        "casualties_df = pd.read_csv('Road Safety Data - Casualties 2019.csv')\n",
        "vehicles_df = pd.read_csv('Road Safety Data- Vehicles 2019.csv')"
      ]
    },
    {
      "cell_type": "code",
      "execution_count": null,
      "metadata": {
        "colab": {
          "base_uri": "https://localhost:8080/"
        },
        "id": "YAu5UN2bffrm",
        "outputId": "92a3303d-d1ab-4f98-bc4d-59db26262947"
      },
      "outputs": [
        {
          "name": "stdout",
          "output_type": "stream",
          "text": [
            "(117536, 32)\n",
            "(153158, 16)\n",
            "(216381, 23)\n"
          ]
        }
      ],
      "source": [
        "def get_len(df_list):\n",
        "\n",
        "  for df in df_list:\n",
        "    print(f\"{df.shape}\")\n",
        "  \n",
        "\n",
        "get_len([accident_df, casualties_df, vehicles_df])"
      ]
    },
    {
      "cell_type": "code",
      "execution_count": null,
      "metadata": {
        "colab": {
          "base_uri": "https://localhost:8080/"
        },
        "id": "-3SfAJlKffwl",
        "outputId": "e94c8267-46e0-4f3b-dfbf-b9ce335f7a06"
      },
      "outputs": [
        {
          "name": "stdout",
          "output_type": "stream",
          "text": [
            "(128593, 47)\n",
            "(109518, 68)\n"
          ]
        }
      ],
      "source": [
        "acc_cas_df = pd.merge(accident_df, casualties_df, how='inner')\n",
        "print(acc_cas_df.shape)\n",
        "over_df = vehicles_df.merge(acc_cas_df, how='inner')\n",
        "print(over_df.shape)"
      ]
    },
    {
      "cell_type": "code",
      "execution_count": null,
      "metadata": {
        "colab": {
          "base_uri": "https://localhost:8080/"
        },
        "id": "wdmh-DwLff4H",
        "outputId": "ea1c2842-072b-4c1c-eccd-1171d410fa36"
      },
      "outputs": [
        {
          "name": "stdout",
          "output_type": "stream",
          "text": [
            "The number of columns is 68\n"
          ]
        }
      ],
      "source": [
        "over_df.columns\n",
        "print(f\"The number of columns is {len(over_df.columns)}\")"
      ]
    },
    {
      "cell_type": "markdown",
      "metadata": {
        "id": "RHEe2TnvnftZ"
      },
      "source": [
        "## 1.1 Data Summary"
      ]
    },
    {
      "cell_type": "code",
      "execution_count": null,
      "metadata": {
        "colab": {
          "base_uri": "https://localhost:8080/",
          "height": 317
        },
        "id": "k0BMRQQTnTTD",
        "outputId": "86b7539a-b07c-4d53-d237-3dd2903f3430"
      },
      "outputs": [],
      "source": [
        "over_df.head()\n",
        "Output = False"
      ]
    },
    {
      "cell_type": "code",
      "execution_count": null,
      "metadata": {
        "colab": {
          "base_uri": "https://localhost:8080/",
          "height": 1000
        },
        "id": "FwKkQnmfnTdP",
        "outputId": "da00bd5c-ce04-4c39-91d8-93c33b4a7d6c"
      },
      "outputs": [
        {
          "data": {
            "text/html": [
              "<div>\n",
              "<style scoped>\n",
              "    .dataframe tbody tr th:only-of-type {\n",
              "        vertical-align: middle;\n",
              "    }\n",
              "\n",
              "    .dataframe tbody tr th {\n",
              "        vertical-align: top;\n",
              "    }\n",
              "\n",
              "    .dataframe thead th {\n",
              "        text-align: right;\n",
              "    }\n",
              "</style>\n",
              "<table border=\"1\" class=\"dataframe\">\n",
              "  <thead>\n",
              "    <tr style=\"text-align: right;\">\n",
              "      <th></th>\n",
              "      <th>dtypes</th>\n",
              "      <th>nunique</th>\n",
              "      <th>count</th>\n",
              "      <th>missing</th>\n",
              "    </tr>\n",
              "  </thead>\n",
              "  <tbody>\n",
              "    <tr>\n",
              "      <th>Accident_Index</th>\n",
              "      <td>object</td>\n",
              "      <td>84165</td>\n",
              "      <td>109518</td>\n",
              "      <td>0</td>\n",
              "    </tr>\n",
              "    <tr>\n",
              "      <th>Vehicle_Reference</th>\n",
              "      <td>int64</td>\n",
              "      <td>11</td>\n",
              "      <td>109518</td>\n",
              "      <td>0</td>\n",
              "    </tr>\n",
              "    <tr>\n",
              "      <th>Vehicle_Type</th>\n",
              "      <td>int64</td>\n",
              "      <td>21</td>\n",
              "      <td>109518</td>\n",
              "      <td>0</td>\n",
              "    </tr>\n",
              "    <tr>\n",
              "      <th>Towing_and_Articulation</th>\n",
              "      <td>int64</td>\n",
              "      <td>7</td>\n",
              "      <td>109518</td>\n",
              "      <td>0</td>\n",
              "    </tr>\n",
              "    <tr>\n",
              "      <th>Vehicle_Manoeuvre</th>\n",
              "      <td>int64</td>\n",
              "      <td>19</td>\n",
              "      <td>109518</td>\n",
              "      <td>0</td>\n",
              "    </tr>\n",
              "    <tr>\n",
              "      <th>Vehicle_Location-Restricted_Lane</th>\n",
              "      <td>int64</td>\n",
              "      <td>11</td>\n",
              "      <td>109518</td>\n",
              "      <td>0</td>\n",
              "    </tr>\n",
              "    <tr>\n",
              "      <th>Junction_Location</th>\n",
              "      <td>int64</td>\n",
              "      <td>10</td>\n",
              "      <td>109518</td>\n",
              "      <td>0</td>\n",
              "    </tr>\n",
              "    <tr>\n",
              "      <th>Skidding_and_Overturning</th>\n",
              "      <td>int64</td>\n",
              "      <td>7</td>\n",
              "      <td>109518</td>\n",
              "      <td>0</td>\n",
              "    </tr>\n",
              "    <tr>\n",
              "      <th>Hit_Object_in_Carriageway</th>\n",
              "      <td>int64</td>\n",
              "      <td>13</td>\n",
              "      <td>109518</td>\n",
              "      <td>0</td>\n",
              "    </tr>\n",
              "    <tr>\n",
              "      <th>Vehicle_Leaving_Carriageway</th>\n",
              "      <td>int64</td>\n",
              "      <td>10</td>\n",
              "      <td>109518</td>\n",
              "      <td>0</td>\n",
              "    </tr>\n",
              "    <tr>\n",
              "      <th>Hit_Object_off_Carriageway</th>\n",
              "      <td>int64</td>\n",
              "      <td>13</td>\n",
              "      <td>109518</td>\n",
              "      <td>0</td>\n",
              "    </tr>\n",
              "    <tr>\n",
              "      <th>1st_Point_of_Impact</th>\n",
              "      <td>int64</td>\n",
              "      <td>6</td>\n",
              "      <td>109518</td>\n",
              "      <td>0</td>\n",
              "    </tr>\n",
              "    <tr>\n",
              "      <th>Was_Vehicle_Left_Hand_Drive?</th>\n",
              "      <td>int64</td>\n",
              "      <td>3</td>\n",
              "      <td>109518</td>\n",
              "      <td>0</td>\n",
              "    </tr>\n",
              "    <tr>\n",
              "      <th>Journey_Purpose_of_Driver</th>\n",
              "      <td>int64</td>\n",
              "      <td>7</td>\n",
              "      <td>109518</td>\n",
              "      <td>0</td>\n",
              "    </tr>\n",
              "    <tr>\n",
              "      <th>Sex_of_Driver</th>\n",
              "      <td>int64</td>\n",
              "      <td>3</td>\n",
              "      <td>109518</td>\n",
              "      <td>0</td>\n",
              "    </tr>\n",
              "    <tr>\n",
              "      <th>Age_of_Driver</th>\n",
              "      <td>int64</td>\n",
              "      <td>101</td>\n",
              "      <td>109518</td>\n",
              "      <td>0</td>\n",
              "    </tr>\n",
              "    <tr>\n",
              "      <th>Age_Band_of_Driver</th>\n",
              "      <td>int64</td>\n",
              "      <td>12</td>\n",
              "      <td>109518</td>\n",
              "      <td>0</td>\n",
              "    </tr>\n",
              "    <tr>\n",
              "      <th>Engine_Capacity_(CC)</th>\n",
              "      <td>int64</td>\n",
              "      <td>826</td>\n",
              "      <td>109518</td>\n",
              "      <td>0</td>\n",
              "    </tr>\n",
              "    <tr>\n",
              "      <th>Propulsion_Code</th>\n",
              "      <td>int64</td>\n",
              "      <td>9</td>\n",
              "      <td>109518</td>\n",
              "      <td>0</td>\n",
              "    </tr>\n",
              "    <tr>\n",
              "      <th>Age_of_Vehicle</th>\n",
              "      <td>int64</td>\n",
              "      <td>68</td>\n",
              "      <td>109518</td>\n",
              "      <td>0</td>\n",
              "    </tr>\n",
              "    <tr>\n",
              "      <th>Driver_IMD_Decile</th>\n",
              "      <td>int64</td>\n",
              "      <td>11</td>\n",
              "      <td>109518</td>\n",
              "      <td>0</td>\n",
              "    </tr>\n",
              "    <tr>\n",
              "      <th>Driver_Home_Area_Type</th>\n",
              "      <td>int64</td>\n",
              "      <td>4</td>\n",
              "      <td>109518</td>\n",
              "      <td>0</td>\n",
              "    </tr>\n",
              "    <tr>\n",
              "      <th>Vehicle_IMD_Decile</th>\n",
              "      <td>int64</td>\n",
              "      <td>11</td>\n",
              "      <td>109518</td>\n",
              "      <td>0</td>\n",
              "    </tr>\n",
              "    <tr>\n",
              "      <th>Location_Easting_OSGR</th>\n",
              "      <td>float64</td>\n",
              "      <td>69969</td>\n",
              "      <td>109478</td>\n",
              "      <td>40</td>\n",
              "    </tr>\n",
              "    <tr>\n",
              "      <th>Location_Northing_OSGR</th>\n",
              "      <td>float64</td>\n",
              "      <td>71373</td>\n",
              "      <td>109478</td>\n",
              "      <td>40</td>\n",
              "    </tr>\n",
              "    <tr>\n",
              "      <th>Longitude</th>\n",
              "      <td>float64</td>\n",
              "      <td>82663</td>\n",
              "      <td>109478</td>\n",
              "      <td>40</td>\n",
              "    </tr>\n",
              "    <tr>\n",
              "      <th>Latitude</th>\n",
              "      <td>float64</td>\n",
              "      <td>82034</td>\n",
              "      <td>109478</td>\n",
              "      <td>40</td>\n",
              "    </tr>\n",
              "    <tr>\n",
              "      <th>Police_Force</th>\n",
              "      <td>int64</td>\n",
              "      <td>44</td>\n",
              "      <td>109518</td>\n",
              "      <td>0</td>\n",
              "    </tr>\n",
              "    <tr>\n",
              "      <th>Accident_Severity</th>\n",
              "      <td>int64</td>\n",
              "      <td>3</td>\n",
              "      <td>109518</td>\n",
              "      <td>0</td>\n",
              "    </tr>\n",
              "    <tr>\n",
              "      <th>Number_of_Vehicles</th>\n",
              "      <td>int64</td>\n",
              "      <td>12</td>\n",
              "      <td>109518</td>\n",
              "      <td>0</td>\n",
              "    </tr>\n",
              "    <tr>\n",
              "      <th>Number_of_Casualties</th>\n",
              "      <td>int64</td>\n",
              "      <td>17</td>\n",
              "      <td>109518</td>\n",
              "      <td>0</td>\n",
              "    </tr>\n",
              "    <tr>\n",
              "      <th>Date</th>\n",
              "      <td>object</td>\n",
              "      <td>365</td>\n",
              "      <td>109518</td>\n",
              "      <td>0</td>\n",
              "    </tr>\n",
              "    <tr>\n",
              "      <th>Day_of_Week</th>\n",
              "      <td>int64</td>\n",
              "      <td>7</td>\n",
              "      <td>109518</td>\n",
              "      <td>0</td>\n",
              "    </tr>\n",
              "    <tr>\n",
              "      <th>Time</th>\n",
              "      <td>object</td>\n",
              "      <td>1437</td>\n",
              "      <td>109457</td>\n",
              "      <td>61</td>\n",
              "    </tr>\n",
              "    <tr>\n",
              "      <th>Local_Authority_(District)</th>\n",
              "      <td>int64</td>\n",
              "      <td>320</td>\n",
              "      <td>109518</td>\n",
              "      <td>0</td>\n",
              "    </tr>\n",
              "    <tr>\n",
              "      <th>Local_Authority_(Highway)</th>\n",
              "      <td>object</td>\n",
              "      <td>193</td>\n",
              "      <td>109518</td>\n",
              "      <td>0</td>\n",
              "    </tr>\n",
              "    <tr>\n",
              "      <th>1st_Road_Class</th>\n",
              "      <td>int64</td>\n",
              "      <td>6</td>\n",
              "      <td>109518</td>\n",
              "      <td>0</td>\n",
              "    </tr>\n",
              "    <tr>\n",
              "      <th>1st_Road_Number</th>\n",
              "      <td>int64</td>\n",
              "      <td>3244</td>\n",
              "      <td>109518</td>\n",
              "      <td>0</td>\n",
              "    </tr>\n",
              "    <tr>\n",
              "      <th>Road_Type</th>\n",
              "      <td>int64</td>\n",
              "      <td>6</td>\n",
              "      <td>109518</td>\n",
              "      <td>0</td>\n",
              "    </tr>\n",
              "    <tr>\n",
              "      <th>Speed_limit</th>\n",
              "      <td>int64</td>\n",
              "      <td>7</td>\n",
              "      <td>109518</td>\n",
              "      <td>0</td>\n",
              "    </tr>\n",
              "    <tr>\n",
              "      <th>Junction_Detail</th>\n",
              "      <td>int64</td>\n",
              "      <td>10</td>\n",
              "      <td>109518</td>\n",
              "      <td>0</td>\n",
              "    </tr>\n",
              "    <tr>\n",
              "      <th>Junction_Control</th>\n",
              "      <td>int64</td>\n",
              "      <td>6</td>\n",
              "      <td>109518</td>\n",
              "      <td>0</td>\n",
              "    </tr>\n",
              "    <tr>\n",
              "      <th>2nd_Road_Class</th>\n",
              "      <td>int64</td>\n",
              "      <td>7</td>\n",
              "      <td>109518</td>\n",
              "      <td>0</td>\n",
              "    </tr>\n",
              "    <tr>\n",
              "      <th>2nd_Road_Number</th>\n",
              "      <td>int64</td>\n",
              "      <td>2778</td>\n",
              "      <td>109518</td>\n",
              "      <td>0</td>\n",
              "    </tr>\n",
              "    <tr>\n",
              "      <th>Pedestrian_Crossing-Human_Control</th>\n",
              "      <td>int64</td>\n",
              "      <td>4</td>\n",
              "      <td>109518</td>\n",
              "      <td>0</td>\n",
              "    </tr>\n",
              "    <tr>\n",
              "      <th>Pedestrian_Crossing-Physical_Facilities</th>\n",
              "      <td>int64</td>\n",
              "      <td>7</td>\n",
              "      <td>109518</td>\n",
              "      <td>0</td>\n",
              "    </tr>\n",
              "    <tr>\n",
              "      <th>Light_Conditions</th>\n",
              "      <td>int64</td>\n",
              "      <td>6</td>\n",
              "      <td>109518</td>\n",
              "      <td>0</td>\n",
              "    </tr>\n",
              "    <tr>\n",
              "      <th>Weather_Conditions</th>\n",
              "      <td>int64</td>\n",
              "      <td>9</td>\n",
              "      <td>109518</td>\n",
              "      <td>0</td>\n",
              "    </tr>\n",
              "    <tr>\n",
              "      <th>Road_Surface_Conditions</th>\n",
              "      <td>int64</td>\n",
              "      <td>6</td>\n",
              "      <td>109518</td>\n",
              "      <td>0</td>\n",
              "    </tr>\n",
              "    <tr>\n",
              "      <th>Special_Conditions_at_Site</th>\n",
              "      <td>int64</td>\n",
              "      <td>9</td>\n",
              "      <td>109518</td>\n",
              "      <td>0</td>\n",
              "    </tr>\n",
              "    <tr>\n",
              "      <th>Carriageway_Hazards</th>\n",
              "      <td>int64</td>\n",
              "      <td>7</td>\n",
              "      <td>109518</td>\n",
              "      <td>0</td>\n",
              "    </tr>\n",
              "    <tr>\n",
              "      <th>Urban_or_Rural_Area</th>\n",
              "      <td>int64</td>\n",
              "      <td>3</td>\n",
              "      <td>109518</td>\n",
              "      <td>0</td>\n",
              "    </tr>\n",
              "    <tr>\n",
              "      <th>Did_Police_Officer_Attend_Scene_of_Accident</th>\n",
              "      <td>int64</td>\n",
              "      <td>3</td>\n",
              "      <td>109518</td>\n",
              "      <td>0</td>\n",
              "    </tr>\n",
              "    <tr>\n",
              "      <th>LSOA_of_Accident_Location</th>\n",
              "      <td>object</td>\n",
              "      <td>22021</td>\n",
              "      <td>101887</td>\n",
              "      <td>7631</td>\n",
              "    </tr>\n",
              "    <tr>\n",
              "      <th>Casualty_Reference</th>\n",
              "      <td>int64</td>\n",
              "      <td>25</td>\n",
              "      <td>109518</td>\n",
              "      <td>0</td>\n",
              "    </tr>\n",
              "    <tr>\n",
              "      <th>Casualty_Class</th>\n",
              "      <td>int64</td>\n",
              "      <td>3</td>\n",
              "      <td>109518</td>\n",
              "      <td>0</td>\n",
              "    </tr>\n",
              "    <tr>\n",
              "      <th>Sex_of_Casualty</th>\n",
              "      <td>int64</td>\n",
              "      <td>3</td>\n",
              "      <td>109518</td>\n",
              "      <td>0</td>\n",
              "    </tr>\n",
              "    <tr>\n",
              "      <th>Age_of_Casualty</th>\n",
              "      <td>int64</td>\n",
              "      <td>103</td>\n",
              "      <td>109518</td>\n",
              "      <td>0</td>\n",
              "    </tr>\n",
              "    <tr>\n",
              "      <th>Age_Band_of_Casualty</th>\n",
              "      <td>int64</td>\n",
              "      <td>12</td>\n",
              "      <td>109518</td>\n",
              "      <td>0</td>\n",
              "    </tr>\n",
              "    <tr>\n",
              "      <th>Casualty_Severity</th>\n",
              "      <td>int64</td>\n",
              "      <td>3</td>\n",
              "      <td>109518</td>\n",
              "      <td>0</td>\n",
              "    </tr>\n",
              "    <tr>\n",
              "      <th>Pedestrian_Location</th>\n",
              "      <td>int64</td>\n",
              "      <td>12</td>\n",
              "      <td>109518</td>\n",
              "      <td>0</td>\n",
              "    </tr>\n",
              "    <tr>\n",
              "      <th>Pedestrian_Movement</th>\n",
              "      <td>int64</td>\n",
              "      <td>10</td>\n",
              "      <td>109518</td>\n",
              "      <td>0</td>\n",
              "    </tr>\n",
              "    <tr>\n",
              "      <th>Car_Passenger</th>\n",
              "      <td>int64</td>\n",
              "      <td>4</td>\n",
              "      <td>109518</td>\n",
              "      <td>0</td>\n",
              "    </tr>\n",
              "    <tr>\n",
              "      <th>Bus_or_Coach_Passenger</th>\n",
              "      <td>int64</td>\n",
              "      <td>6</td>\n",
              "      <td>109518</td>\n",
              "      <td>0</td>\n",
              "    </tr>\n",
              "    <tr>\n",
              "      <th>Pedestrian_Road_Maintenance_Worker</th>\n",
              "      <td>int64</td>\n",
              "      <td>4</td>\n",
              "      <td>109518</td>\n",
              "      <td>0</td>\n",
              "    </tr>\n",
              "    <tr>\n",
              "      <th>Casualty_Type</th>\n",
              "      <td>int64</td>\n",
              "      <td>22</td>\n",
              "      <td>109518</td>\n",
              "      <td>0</td>\n",
              "    </tr>\n",
              "    <tr>\n",
              "      <th>Casualty_Home_Area_Type</th>\n",
              "      <td>int64</td>\n",
              "      <td>4</td>\n",
              "      <td>109518</td>\n",
              "      <td>0</td>\n",
              "    </tr>\n",
              "    <tr>\n",
              "      <th>Casualty_IMD_Decile</th>\n",
              "      <td>int64</td>\n",
              "      <td>11</td>\n",
              "      <td>109518</td>\n",
              "      <td>0</td>\n",
              "    </tr>\n",
              "  </tbody>\n",
              "</table>\n",
              "</div>"
            ],
            "text/plain": [
              "                                              dtypes  nunique   count  missing\n",
              "Accident_Index                                object    84165  109518        0\n",
              "Vehicle_Reference                              int64       11  109518        0\n",
              "Vehicle_Type                                   int64       21  109518        0\n",
              "Towing_and_Articulation                        int64        7  109518        0\n",
              "Vehicle_Manoeuvre                              int64       19  109518        0\n",
              "Vehicle_Location-Restricted_Lane               int64       11  109518        0\n",
              "Junction_Location                              int64       10  109518        0\n",
              "Skidding_and_Overturning                       int64        7  109518        0\n",
              "Hit_Object_in_Carriageway                      int64       13  109518        0\n",
              "Vehicle_Leaving_Carriageway                    int64       10  109518        0\n",
              "Hit_Object_off_Carriageway                     int64       13  109518        0\n",
              "1st_Point_of_Impact                            int64        6  109518        0\n",
              "Was_Vehicle_Left_Hand_Drive?                   int64        3  109518        0\n",
              "Journey_Purpose_of_Driver                      int64        7  109518        0\n",
              "Sex_of_Driver                                  int64        3  109518        0\n",
              "Age_of_Driver                                  int64      101  109518        0\n",
              "Age_Band_of_Driver                             int64       12  109518        0\n",
              "Engine_Capacity_(CC)                           int64      826  109518        0\n",
              "Propulsion_Code                                int64        9  109518        0\n",
              "Age_of_Vehicle                                 int64       68  109518        0\n",
              "Driver_IMD_Decile                              int64       11  109518        0\n",
              "Driver_Home_Area_Type                          int64        4  109518        0\n",
              "Vehicle_IMD_Decile                             int64       11  109518        0\n",
              "Location_Easting_OSGR                        float64    69969  109478       40\n",
              "Location_Northing_OSGR                       float64    71373  109478       40\n",
              "Longitude                                    float64    82663  109478       40\n",
              "Latitude                                     float64    82034  109478       40\n",
              "Police_Force                                   int64       44  109518        0\n",
              "Accident_Severity                              int64        3  109518        0\n",
              "Number_of_Vehicles                             int64       12  109518        0\n",
              "Number_of_Casualties                           int64       17  109518        0\n",
              "Date                                          object      365  109518        0\n",
              "Day_of_Week                                    int64        7  109518        0\n",
              "Time                                          object     1437  109457       61\n",
              "Local_Authority_(District)                     int64      320  109518        0\n",
              "Local_Authority_(Highway)                     object      193  109518        0\n",
              "1st_Road_Class                                 int64        6  109518        0\n",
              "1st_Road_Number                                int64     3244  109518        0\n",
              "Road_Type                                      int64        6  109518        0\n",
              "Speed_limit                                    int64        7  109518        0\n",
              "Junction_Detail                                int64       10  109518        0\n",
              "Junction_Control                               int64        6  109518        0\n",
              "2nd_Road_Class                                 int64        7  109518        0\n",
              "2nd_Road_Number                                int64     2778  109518        0\n",
              "Pedestrian_Crossing-Human_Control              int64        4  109518        0\n",
              "Pedestrian_Crossing-Physical_Facilities        int64        7  109518        0\n",
              "Light_Conditions                               int64        6  109518        0\n",
              "Weather_Conditions                             int64        9  109518        0\n",
              "Road_Surface_Conditions                        int64        6  109518        0\n",
              "Special_Conditions_at_Site                     int64        9  109518        0\n",
              "Carriageway_Hazards                            int64        7  109518        0\n",
              "Urban_or_Rural_Area                            int64        3  109518        0\n",
              "Did_Police_Officer_Attend_Scene_of_Accident    int64        3  109518        0\n",
              "LSOA_of_Accident_Location                     object    22021  101887     7631\n",
              "Casualty_Reference                             int64       25  109518        0\n",
              "Casualty_Class                                 int64        3  109518        0\n",
              "Sex_of_Casualty                                int64        3  109518        0\n",
              "Age_of_Casualty                                int64      103  109518        0\n",
              "Age_Band_of_Casualty                           int64       12  109518        0\n",
              "Casualty_Severity                              int64        3  109518        0\n",
              "Pedestrian_Location                            int64       12  109518        0\n",
              "Pedestrian_Movement                            int64       10  109518        0\n",
              "Car_Passenger                                  int64        4  109518        0\n",
              "Bus_or_Coach_Passenger                         int64        6  109518        0\n",
              "Pedestrian_Road_Maintenance_Worker             int64        4  109518        0\n",
              "Casualty_Type                                  int64       22  109518        0\n",
              "Casualty_Home_Area_Type                        int64        4  109518        0\n",
              "Casualty_IMD_Decile                            int64       11  109518        0"
            ]
          },
          "execution_count": 96,
          "metadata": {},
          "output_type": "execute_result"
        }
      ],
      "source": [
        "# get data summary \n",
        "def get_data_summary(data):\n",
        "    summary = pd.concat([data.dtypes, data.nunique(),\n",
        "                         data.count(), data.isnull().sum()],\n",
        "                        keys=[\"dtypes\", \"nunique\", \"count\", \"missing\"],\n",
        "                        axis=1)\n",
        "    return summary\n",
        "\n",
        "summary_ = get_data_summary(over_df)\n",
        "summary_\n"
      ]
    },
    {
      "cell_type": "markdown",
      "metadata": {},
      "source": [
        "### 1a. Is there a relationship between hours of the day, days of the week and number of accidents?"
      ]
    },
    {
      "cell_type": "code",
      "execution_count": null,
      "metadata": {
        "id": "y9yloFDVnUI6"
      },
      "outputs": [],
      "source": [
        "col_list = ['Date','Time', 'Day_of_Week', 'Number_of_Casualties',\n",
        "            'Number_of_Vehicles', 'Casualty_Severity', 'Accident_Severity']\n",
        "\n",
        "cas_df = over_df[col_list]\n"
      ]
    },
    {
      "cell_type": "code",
      "execution_count": 98,
      "metadata": {
        "id": "nGAGsaL9nUhC"
      },
      "outputs": [],
      "source": [
        "cas_df['date_time'] = cas_df['Date'] + \" \" + cas_df['Time'] \n",
        "cas_df = cas_df.drop(columns=['Date', 'Time'], axis=1)\n",
        "cas_df['date_time'] = pd.to_datetime(cas_df['date_time'])\n",
        "\n",
        "cas_df = cas_df.dropna(subset=['date_time'], axis=0, inplace=False)\n",
        "\n",
        "cas_df['date_time'] = cas_df['date_time'].apply(lambda dt: datetime(\n",
        "    dt.year, dt.month, dt.day, dt.hour, 60*(dt.minute // 600)))\n",
        "\n",
        "cas_df['hour_of_day'] = cas_df['date_time'].dt.hour\n"
      ]
    },
    {
      "cell_type": "code",
      "execution_count": 99,
      "metadata": {},
      "outputs": [],
      "source": [
        "cas_df['Time_Duration'] = np.where((cas_df['hour_of_day'] >= 0) & (cas_df['hour_of_day'] <= 3), \"before 3am\", \n",
        "        np.where(\n",
        "            (cas_df['hour_of_day'] > 3) & (cas_df['hour_of_day'] <= 6), \"3am - 6am\",\n",
        "        np.where(\n",
        "            (cas_df['hour_of_day'] > 6) & (cas_df['hour_of_day'] <= 9), \"6am - 9am\", \n",
        "        np.where(\n",
        "            (cas_df['hour_of_day'] > 9) & (cas_df['hour_of_day'] <= 12), \"9am - 12pm\", \n",
        "        np.where(\n",
        "            (cas_df['hour_of_day'] > 12) & (cas_df['hour_of_day'] <= 15), \"12pm - 3pm\", \n",
        "        np.where(\n",
        "            (cas_df['hour_of_day'] > 15) & (cas_df['hour_of_day'] <= 18), \"3pm -6pm\", \n",
        "        np.where(\n",
        "            (cas_df['hour_of_day'] > 18) & (cas_df['hour_of_day'] <= 21), \"6pm - 9pm\", \n",
        "        np.where(\n",
        "            (cas_df['hour_of_day'] > 21) & (cas_df['hour_of_day'] <=24), \"9pm - 12am\", \"\"))))))))"
      ]
    },
    {
      "cell_type": "code",
      "execution_count": 100,
      "metadata": {
        "id": "d96rsgotnWr7"
      },
      "outputs": [],
      "source": [
        "# replace day of week with categorical values \n",
        "replace_dict = {\n",
        "    1:\"Sunday\", 2:\"Monday\", 3:\"Tuesday\", 4:\"Wednesday\", 5:\"Thursday\", 6:\"Friday\", 7:\"Saturday\"\n",
        "}\n",
        "\n",
        "cas_df['Day_of_Week'] = cas_df['Day_of_Week'].replace(replace_dict)\n",
        "\n",
        "#replace Accident_severity\n",
        "\n",
        "replace_cas_dict = {\n",
        "    1:\"Fatal\", 2:\"Serious\", 3:\"Slight\"\n",
        "}\n",
        "\n",
        "cas_df['Accident_Severity'] = cas_df['Accident_Severity'].replace(replace_cas_dict)\n",
        "\n",
        "# replace Casualty Severity\n",
        "\n",
        "replace_sev = {\n",
        "    1: \"Fatal\", 2: \"Serious\", 3: \"Slight\"\n",
        "}\n",
        "cas_df['Casualty_Severity'] = cas_df['Casualty_Severity'].replace(\n",
        "    replace_sev)\n",
        "\n",
        "\n"
      ]
    },
    {
      "cell_type": "code",
      "execution_count": 101,
      "metadata": {
        "id": "MMqb7vEVnW_o"
      },
      "outputs": [
        {
          "data": {
            "image/png": "[encoded data removed]",
            "text/plain": [
              "<Figure size 1440x360 with 1 Axes>"
            ]
          },
          "metadata": {
            "needs_background": "light"
          },
          "output_type": "display_data"
        },
        {
          "data": {
            "image/png": "[encoded data removed]",
            "text/plain": [
              "<Figure size 1440x360 with 1 Axes>"
            ]
          },
          "metadata": {
            "needs_background": "light"
          },
          "output_type": "display_data"
        }
      ],
      "source": [
        "columns= ['Time_Duration', 'Day_of_Week']\n",
        "\n",
        "plot_count(columns, cas_df, None)\n"
      ]
    },
    {
      "cell_type": "markdown",
      "metadata": {
        "id": "gD4bzkFUnXLk"
      },
      "source": [
        "### 1b. Are there significant hours of the day, day of the week for motorbike accidents "
      ]
    },
    {
      "cell_type": "code",
      "execution_count": 102,
      "metadata": {
        "id": "Vle7_m_BnXQv"
      },
      "outputs": [],
      "source": [
        "over_df.head()\n",
        "output=False"
      ]
    },
    {
      "cell_type": "code",
      "execution_count": 103,
      "metadata": {},
      "outputs": [],
      "source": [
        "cols_to_check = ['Vehicle_Reference', 'Vehicle_Type']\n",
        "vehicle_check_df = merge_cols_use(cols_to_check, over_df, cas_df )\n"
      ]
    },
    {
      "cell_type": "code",
      "execution_count": 104,
      "metadata": {},
      "outputs": [],
      "source": [
        "motorCycle_codes = [2, 3, 4, 5, 23, 97]\n",
        "motorCycle_df = vehicle_check_df[vehicle_check_df.Vehicle_Type.astype(\"int64\").isin(\n",
        "                motorCycle_codes)]\n",
        "\n"
      ]
    },
    {
      "cell_type": "code",
      "execution_count": 105,
      "metadata": {
        "id": "tzII07KEnXX3"
      },
      "outputs": [],
      "source": [
        "\n",
        "vehicle_replace_dict = {\n",
        "    2:\"Motorcycle 50cc and under\", \n",
        "    3:\"Motorcycle 125cc and under\",\n",
        "    4:\"Motorcycle over 125cc and up to 500cc\",\n",
        "    5:\"Motorcycle over 500cc\",\n",
        "    23:\"Electric motorcycle\",\n",
        "    97: \"Motorcycle - unknown cc\"\n",
        "}\n",
        "motorCycle_df['Vehicle_Type'] = motorCycle_df['Vehicle_Type'].replace(\n",
        "    vehicle_replace_dict)\n",
        "\n",
        "# vehicle_check_df.isnull().sum()"
      ]
    },
    {
      "cell_type": "code",
      "execution_count": 106,
      "metadata": {},
      "outputs": [
        {
          "data": {
            "image/png": "[encoded data removed]",
            "text/plain": [
              "<Figure size 1440x360 with 1 Axes>"
            ]
          },
          "metadata": {
            "needs_background": "light"
          },
          "output_type": "display_data"
        }
      ],
      "source": [
        "plot_count(['Vehicle_Type'], motorCycle_df, 'Time_Duration')"
      ]
    },
    {
      "cell_type": "code",
      "execution_count": 107,
      "metadata": {},
      "outputs": [
        {
          "data": {
            "image/png": "[encoded data removed]",
            "text/plain": [
              "<Figure size 1440x360 with 1 Axes>"
            ]
          },
          "metadata": {
            "needs_background": "light"
          },
          "output_type": "display_data"
        }
      ],
      "source": [
        "plot_hist_count(['Vehicle_Type'], motorCycle_df, \n",
        "                'Time_Duration', 'count', 'stack')\n"
      ]
    },
    {
      "cell_type": "code",
      "execution_count": 108,
      "metadata": {},
      "outputs": [
        {
          "data": {
            "image/png": "[encoded data removed]",
            "text/plain": [
              "<Figure size 1440x360 with 1 Axes>"
            ]
          },
          "metadata": {
            "needs_background": "light"
          },
          "output_type": "display_data"
        }
      ],
      "source": [
        "plot_hist_count(['Vehicle_Type'], motorCycle_df,\n",
        "                'Day_of_Week', 'count', 'stack')\n"
      ]
    },
    {
      "cell_type": "markdown",
      "metadata": {},
      "source": [
        "### 1c. Are there significant hours for pedestrians or day of the week for accident involvement?"
      ]
    },
    {
      "cell_type": "code",
      "execution_count": 109,
      "metadata": {},
      "outputs": [],
      "source": [
        "casualty_cols = ['Casualty_Class']\n",
        "pedestrian_df = merge_cols_use(casualty_cols, over_df, cas_df)\n",
        "pedestrian_codes = [3]\n",
        "pedestrian_df = pedestrian_df[pedestrian_df.Casualty_Class.astype(\"int64\").isin(\n",
        "    pedestrian_codes)]\n",
        "\n",
        "ped_dict = {3:'Pedestrian'}\n",
        "pedestrian_df['Casualty_Class'] = pedestrian_df['Casualty_Class'].replace(ped_dict)"
      ]
    },
    {
      "cell_type": "code",
      "execution_count": 110,
      "metadata": {},
      "outputs": [
        {
          "data": {
            "image/png": "[encoded data removed]",
            "text/plain": [
              "<Figure size 1440x360 with 1 Axes>"
            ]
          },
          "metadata": {
            "needs_background": "light"
          },
          "output_type": "display_data"
        }
      ],
      "source": [
        "plot_count(['Casualty_Class'], pedestrian_df, 'Time_Duration')\n"
      ]
    },
    {
      "cell_type": "code",
      "execution_count": 111,
      "metadata": {},
      "outputs": [
        {
          "data": {
            "image/png": "[encoded data removed]",
            "text/plain": [
              "<Figure size 1440x360 with 1 Axes>"
            ]
          },
          "metadata": {
            "needs_background": "light"
          },
          "output_type": "display_data"
        }
      ],
      "source": [
        "plot_count(['Casualty_Class'], pedestrian_df, 'Day_of_Week')\n"
      ]
    },
    {
      "cell_type": "markdown",
      "metadata": {},
      "source": [
        "### 1d. Impact of Daylights on Road Traffic Accidents "
      ]
    },
    {
      "cell_type": "markdown",
      "metadata": {},
      "source": [
        "+ daylight_savings_start = 1am, Sunday 31st March\n",
        "+ daylight_savings_end = 2am, Sunday 27th October "
      ]
    },
    {
      "cell_type": "code",
      "execution_count": 112,
      "metadata": {},
      "outputs": [],
      "source": [
        "import matplotlib.dates as mdates\n",
        "Output=False\n"
      ]
    },
    {
      "cell_type": "code",
      "execution_count": 113,
      "metadata": {},
      "outputs": [],
      "source": [
        "date_df = cas_df[['date_time', 'Day_of_Week', 'Number_of_Casualties']]"
      ]
    },
    {
      "cell_type": "code",
      "execution_count": 114,
      "metadata": {},
      "outputs": [],
      "source": [
        "date_df = date_df.set_index('date_time')\n",
        "date_df['year'] = date_df.index.year\n",
        "date_df['month'] = date_df.index.month"
      ]
    },
    {
      "cell_type": "code",
      "execution_count": 115,
      "metadata": {},
      "outputs": [],
      "source": [
        "start_date = '2019-04-07' # after daylight savings start \n",
        "end_date = '2019-11-05' # 1 week after daylight savings end \n",
        "mask_daylight_savings = (date_df.index >= start_date) & (date_df.index <= end_date)\n",
        "mask_afterdaylight = (date_df.index >= end_date)\n",
        "\n",
        "date_df['is_daylight_savings'] = np.where(mask_daylight_savings, \"is_daylights_savings\",\n",
        "                                np.where(mask_afterdaylight, \"Normal Time\", \"Normal Time\"\n",
        "                                ))"
      ]
    },
    {
      "cell_type": "code",
      "execution_count": 116,
      "metadata": {},
      "outputs": [],
      "source": [
        "expr_df = date_df.reset_index()"
      ]
    },
    {
      "cell_type": "code",
      "execution_count": 117,
      "metadata": {},
      "outputs": [],
      "source": [
        "expr_df = expr_df.resample('W', on=\"date_time\", closed='left', \n",
        "                label='left').agg({\"Number_of_Casualties\":\"sum\"})"
      ]
    },
    {
      "cell_type": "code",
      "execution_count": 118,
      "metadata": {},
      "outputs": [],
      "source": [
        "\n",
        "mask_daylight_savings = (expr_df.index >= start_date) & (\n",
        "    expr_df.index <= end_date)\n",
        "mask_afterdaylight = (expr_df.index >= end_date)\n",
        "expr_df['is_daylight_savings'] = np.where(mask_daylight_savings, \"is_daylights_savings\",\n",
        "                                          np.where(mask_afterdaylight, \"Normal Time\", \"Normal Time\"\n",
        "                                                   ))\n"
      ]
    },
    {
      "cell_type": "code",
      "execution_count": 119,
      "metadata": {},
      "outputs": [
        {
          "data": {
            "text/html": [
              "<div>\n",
              "<style scoped>\n",
              "    .dataframe tbody tr th:only-of-type {\n",
              "        vertical-align: middle;\n",
              "    }\n",
              "\n",
              "    .dataframe tbody tr th {\n",
              "        vertical-align: top;\n",
              "    }\n",
              "\n",
              "    .dataframe thead th {\n",
              "        text-align: right;\n",
              "    }\n",
              "</style>\n",
              "<table border=\"1\" class=\"dataframe\">\n",
              "  <thead>\n",
              "    <tr style=\"text-align: right;\">\n",
              "      <th></th>\n",
              "      <th>Number_of_Casualties</th>\n",
              "      <th>is_daylight_savings</th>\n",
              "    </tr>\n",
              "    <tr>\n",
              "      <th>date_time</th>\n",
              "      <th></th>\n",
              "      <th></th>\n",
              "    </tr>\n",
              "  </thead>\n",
              "  <tbody>\n",
              "    <tr>\n",
              "      <th>2018-12-30</th>\n",
              "      <td>2481</td>\n",
              "      <td>Normal Time</td>\n",
              "    </tr>\n",
              "    <tr>\n",
              "      <th>2019-01-06</th>\n",
              "      <td>3987</td>\n",
              "      <td>Normal Time</td>\n",
              "    </tr>\n",
              "    <tr>\n",
              "      <th>2019-01-13</th>\n",
              "      <td>3375</td>\n",
              "      <td>Normal Time</td>\n",
              "    </tr>\n",
              "    <tr>\n",
              "      <th>2019-01-20</th>\n",
              "      <td>4023</td>\n",
              "      <td>Normal Time</td>\n",
              "    </tr>\n",
              "    <tr>\n",
              "      <th>2019-01-27</th>\n",
              "      <td>3283</td>\n",
              "      <td>Normal Time</td>\n",
              "    </tr>\n",
              "    <tr>\n",
              "      <th>2019-02-03</th>\n",
              "      <td>3926</td>\n",
              "      <td>Normal Time</td>\n",
              "    </tr>\n",
              "    <tr>\n",
              "      <th>2019-02-10</th>\n",
              "      <td>3719</td>\n",
              "      <td>Normal Time</td>\n",
              "    </tr>\n",
              "    <tr>\n",
              "      <th>2019-02-17</th>\n",
              "      <td>3529</td>\n",
              "      <td>Normal Time</td>\n",
              "    </tr>\n",
              "    <tr>\n",
              "      <th>2019-02-24</th>\n",
              "      <td>3561</td>\n",
              "      <td>Normal Time</td>\n",
              "    </tr>\n",
              "    <tr>\n",
              "      <th>2019-03-03</th>\n",
              "      <td>3554</td>\n",
              "      <td>Normal Time</td>\n",
              "    </tr>\n",
              "    <tr>\n",
              "      <th>2019-03-10</th>\n",
              "      <td>3212</td>\n",
              "      <td>Normal Time</td>\n",
              "    </tr>\n",
              "    <tr>\n",
              "      <th>2019-03-17</th>\n",
              "      <td>3312</td>\n",
              "      <td>Normal Time</td>\n",
              "    </tr>\n",
              "    <tr>\n",
              "      <th>2019-03-24</th>\n",
              "      <td>3553</td>\n",
              "      <td>Normal Time</td>\n",
              "    </tr>\n",
              "    <tr>\n",
              "      <th>2019-03-31</th>\n",
              "      <td>3505</td>\n",
              "      <td>Normal Time</td>\n",
              "    </tr>\n",
              "    <tr>\n",
              "      <th>2019-04-07</th>\n",
              "      <td>4566</td>\n",
              "      <td>is_daylights_savings</td>\n",
              "    </tr>\n",
              "    <tr>\n",
              "      <th>2019-04-14</th>\n",
              "      <td>4202</td>\n",
              "      <td>is_daylights_savings</td>\n",
              "    </tr>\n",
              "    <tr>\n",
              "      <th>2019-04-21</th>\n",
              "      <td>3803</td>\n",
              "      <td>is_daylights_savings</td>\n",
              "    </tr>\n",
              "    <tr>\n",
              "      <th>2019-04-28</th>\n",
              "      <td>3236</td>\n",
              "      <td>is_daylights_savings</td>\n",
              "    </tr>\n",
              "    <tr>\n",
              "      <th>2019-05-05</th>\n",
              "      <td>3858</td>\n",
              "      <td>is_daylights_savings</td>\n",
              "    </tr>\n",
              "    <tr>\n",
              "      <th>2019-05-12</th>\n",
              "      <td>3968</td>\n",
              "      <td>is_daylights_savings</td>\n",
              "    </tr>\n",
              "    <tr>\n",
              "      <th>2019-05-19</th>\n",
              "      <td>3807</td>\n",
              "      <td>is_daylights_savings</td>\n",
              "    </tr>\n",
              "    <tr>\n",
              "      <th>2019-05-26</th>\n",
              "      <td>3406</td>\n",
              "      <td>is_daylights_savings</td>\n",
              "    </tr>\n",
              "    <tr>\n",
              "      <th>2019-06-02</th>\n",
              "      <td>3924</td>\n",
              "      <td>is_daylights_savings</td>\n",
              "    </tr>\n",
              "    <tr>\n",
              "      <th>2019-06-09</th>\n",
              "      <td>3395</td>\n",
              "      <td>is_daylights_savings</td>\n",
              "    </tr>\n",
              "    <tr>\n",
              "      <th>2019-06-16</th>\n",
              "      <td>4019</td>\n",
              "      <td>is_daylights_savings</td>\n",
              "    </tr>\n",
              "    <tr>\n",
              "      <th>2019-06-23</th>\n",
              "      <td>3982</td>\n",
              "      <td>is_daylights_savings</td>\n",
              "    </tr>\n",
              "    <tr>\n",
              "      <th>2019-06-30</th>\n",
              "      <td>3650</td>\n",
              "      <td>is_daylights_savings</td>\n",
              "    </tr>\n",
              "    <tr>\n",
              "      <th>2019-07-07</th>\n",
              "      <td>3836</td>\n",
              "      <td>is_daylights_savings</td>\n",
              "    </tr>\n",
              "    <tr>\n",
              "      <th>2019-07-14</th>\n",
              "      <td>4020</td>\n",
              "      <td>is_daylights_savings</td>\n",
              "    </tr>\n",
              "    <tr>\n",
              "      <th>2019-07-21</th>\n",
              "      <td>4271</td>\n",
              "      <td>is_daylights_savings</td>\n",
              "    </tr>\n",
              "    <tr>\n",
              "      <th>2019-07-28</th>\n",
              "      <td>4011</td>\n",
              "      <td>is_daylights_savings</td>\n",
              "    </tr>\n",
              "    <tr>\n",
              "      <th>2019-08-04</th>\n",
              "      <td>3009</td>\n",
              "      <td>is_daylights_savings</td>\n",
              "    </tr>\n",
              "    <tr>\n",
              "      <th>2019-08-11</th>\n",
              "      <td>4044</td>\n",
              "      <td>is_daylights_savings</td>\n",
              "    </tr>\n",
              "    <tr>\n",
              "      <th>2019-08-18</th>\n",
              "      <td>4003</td>\n",
              "      <td>is_daylights_savings</td>\n",
              "    </tr>\n",
              "    <tr>\n",
              "      <th>2019-08-25</th>\n",
              "      <td>4144</td>\n",
              "      <td>is_daylights_savings</td>\n",
              "    </tr>\n",
              "    <tr>\n",
              "      <th>2019-09-01</th>\n",
              "      <td>3467</td>\n",
              "      <td>is_daylights_savings</td>\n",
              "    </tr>\n",
              "    <tr>\n",
              "      <th>2019-09-08</th>\n",
              "      <td>3594</td>\n",
              "      <td>is_daylights_savings</td>\n",
              "    </tr>\n",
              "    <tr>\n",
              "      <th>2019-09-15</th>\n",
              "      <td>3475</td>\n",
              "      <td>is_daylights_savings</td>\n",
              "    </tr>\n",
              "    <tr>\n",
              "      <th>2019-09-22</th>\n",
              "      <td>3043</td>\n",
              "      <td>is_daylights_savings</td>\n",
              "    </tr>\n",
              "    <tr>\n",
              "      <th>2019-09-29</th>\n",
              "      <td>3806</td>\n",
              "      <td>is_daylights_savings</td>\n",
              "    </tr>\n",
              "    <tr>\n",
              "      <th>2019-10-06</th>\n",
              "      <td>3146</td>\n",
              "      <td>is_daylights_savings</td>\n",
              "    </tr>\n",
              "    <tr>\n",
              "      <th>2019-10-13</th>\n",
              "      <td>3278</td>\n",
              "      <td>is_daylights_savings</td>\n",
              "    </tr>\n",
              "    <tr>\n",
              "      <th>2019-10-20</th>\n",
              "      <td>3109</td>\n",
              "      <td>is_daylights_savings</td>\n",
              "    </tr>\n",
              "    <tr>\n",
              "      <th>2019-10-27</th>\n",
              "      <td>3568</td>\n",
              "      <td>is_daylights_savings</td>\n",
              "    </tr>\n",
              "    <tr>\n",
              "      <th>2019-11-03</th>\n",
              "      <td>3496</td>\n",
              "      <td>is_daylights_savings</td>\n",
              "    </tr>\n",
              "    <tr>\n",
              "      <th>2019-11-10</th>\n",
              "      <td>3672</td>\n",
              "      <td>Normal Time</td>\n",
              "    </tr>\n",
              "    <tr>\n",
              "      <th>2019-11-17</th>\n",
              "      <td>3218</td>\n",
              "      <td>Normal Time</td>\n",
              "    </tr>\n",
              "    <tr>\n",
              "      <th>2019-11-24</th>\n",
              "      <td>3170</td>\n",
              "      <td>Normal Time</td>\n",
              "    </tr>\n",
              "    <tr>\n",
              "      <th>2019-12-01</th>\n",
              "      <td>3559</td>\n",
              "      <td>Normal Time</td>\n",
              "    </tr>\n",
              "    <tr>\n",
              "      <th>2019-12-08</th>\n",
              "      <td>3496</td>\n",
              "      <td>Normal Time</td>\n",
              "    </tr>\n",
              "    <tr>\n",
              "      <th>2019-12-15</th>\n",
              "      <td>3487</td>\n",
              "      <td>Normal Time</td>\n",
              "    </tr>\n",
              "    <tr>\n",
              "      <th>2019-12-22</th>\n",
              "      <td>2486</td>\n",
              "      <td>Normal Time</td>\n",
              "    </tr>\n",
              "    <tr>\n",
              "      <th>2019-12-29</th>\n",
              "      <td>1117</td>\n",
              "      <td>Normal Time</td>\n",
              "    </tr>\n",
              "  </tbody>\n",
              "</table>\n",
              "</div>"
            ],
            "text/plain": [
              "            Number_of_Casualties   is_daylight_savings\n",
              "date_time                                             \n",
              "2018-12-30                  2481           Normal Time\n",
              "2019-01-06                  3987           Normal Time\n",
              "2019-01-13                  3375           Normal Time\n",
              "2019-01-20                  4023           Normal Time\n",
              "2019-01-27                  3283           Normal Time\n",
              "2019-02-03                  3926           Normal Time\n",
              "2019-02-10                  3719           Normal Time\n",
              "2019-02-17                  3529           Normal Time\n",
              "2019-02-24                  3561           Normal Time\n",
              "2019-03-03                  3554           Normal Time\n",
              "2019-03-10                  3212           Normal Time\n",
              "2019-03-17                  3312           Normal Time\n",
              "2019-03-24                  3553           Normal Time\n",
              "2019-03-31                  3505           Normal Time\n",
              "2019-04-07                  4566  is_daylights_savings\n",
              "2019-04-14                  4202  is_daylights_savings\n",
              "2019-04-21                  3803  is_daylights_savings\n",
              "2019-04-28                  3236  is_daylights_savings\n",
              "2019-05-05                  3858  is_daylights_savings\n",
              "2019-05-12                  3968  is_daylights_savings\n",
              "2019-05-19                  3807  is_daylights_savings\n",
              "2019-05-26                  3406  is_daylights_savings\n",
              "2019-06-02                  3924  is_daylights_savings\n",
              "2019-06-09                  3395  is_daylights_savings\n",
              "2019-06-16                  4019  is_daylights_savings\n",
              "2019-06-23                  3982  is_daylights_savings\n",
              "2019-06-30                  3650  is_daylights_savings\n",
              "2019-07-07                  3836  is_daylights_savings\n",
              "2019-07-14                  4020  is_daylights_savings\n",
              "2019-07-21                  4271  is_daylights_savings\n",
              "2019-07-28                  4011  is_daylights_savings\n",
              "2019-08-04                  3009  is_daylights_savings\n",
              "2019-08-11                  4044  is_daylights_savings\n",
              "2019-08-18                  4003  is_daylights_savings\n",
              "2019-08-25                  4144  is_daylights_savings\n",
              "2019-09-01                  3467  is_daylights_savings\n",
              "2019-09-08                  3594  is_daylights_savings\n",
              "2019-09-15                  3475  is_daylights_savings\n",
              "2019-09-22                  3043  is_daylights_savings\n",
              "2019-09-29                  3806  is_daylights_savings\n",
              "2019-10-06                  3146  is_daylights_savings\n",
              "2019-10-13                  3278  is_daylights_savings\n",
              "2019-10-20                  3109  is_daylights_savings\n",
              "2019-10-27                  3568  is_daylights_savings\n",
              "2019-11-03                  3496  is_daylights_savings\n",
              "2019-11-10                  3672           Normal Time\n",
              "2019-11-17                  3218           Normal Time\n",
              "2019-11-24                  3170           Normal Time\n",
              "2019-12-01                  3559           Normal Time\n",
              "2019-12-08                  3496           Normal Time\n",
              "2019-12-15                  3487           Normal Time\n",
              "2019-12-22                  2486           Normal Time\n",
              "2019-12-29                  1117           Normal Time"
            ]
          },
          "execution_count": 119,
          "metadata": {},
          "output_type": "execute_result"
        }
      ],
      "source": [
        "expr_df"
      ]
    },
    {
      "cell_type": "code",
      "execution_count": 120,
      "metadata": {},
      "outputs": [
        {
          "data": {
            "image/png": "[encoded data removed]",
            "text/plain": [
              "<Figure size 1296x432 with 1 Axes>"
            ]
          },
          "metadata": {
            "needs_background": "light"
          },
          "output_type": "display_data"
        }
      ],
      "source": [
        "\n",
        "ax = plt.figure(figsize=(18, 6))\n",
        "ax = sns.lineplot(x=expr_df.index.values, y='Number_of_Casualties', \n",
        "                 hue='is_daylight_savings', data=expr_df)\n",
        "plt.show()"
      ]
    },
    {
      "cell_type": "markdown",
      "metadata": {},
      "source": [
        "### 1e.\tWhat impact, if any, does sunrise and sunset times have on road traffic accidents?\n",
        "\n",
        "+ Sunrise Time Assumption: 6am - 7am\n",
        "+ Normal Time: 7:00am - 6:00pm\n",
        "+ Sunset Period: 6:35am - 7:00pm \n",
        "\n",
        "\n",
        "- H0: Sunrise and Sunset times have an impact on the number of accidents that occurrred \n",
        "- H1: Sunrise and Sunset times do not have an impact on the number of accidents that occur"
      ]
    },
    {
      "cell_type": "code",
      "execution_count": 121,
      "metadata": {},
      "outputs": [
        {
          "data": {
            "text/html": [
              "<div>\n",
              "<style scoped>\n",
              "    .dataframe tbody tr th:only-of-type {\n",
              "        vertical-align: middle;\n",
              "    }\n",
              "\n",
              "    .dataframe tbody tr th {\n",
              "        vertical-align: top;\n",
              "    }\n",
              "\n",
              "    .dataframe thead th {\n",
              "        text-align: right;\n",
              "    }\n",
              "</style>\n",
              "<table border=\"1\" class=\"dataframe\">\n",
              "  <thead>\n",
              "    <tr style=\"text-align: right;\">\n",
              "      <th></th>\n",
              "      <th>Day_of_Week</th>\n",
              "      <th>Number_of_Casualties</th>\n",
              "      <th>Number_of_Vehicles</th>\n",
              "      <th>Casualty_Severity</th>\n",
              "      <th>Accident_Severity</th>\n",
              "      <th>date_time</th>\n",
              "      <th>hour_of_day</th>\n",
              "      <th>Time_Duration</th>\n",
              "    </tr>\n",
              "  </thead>\n",
              "  <tbody>\n",
              "    <tr>\n",
              "      <th>0</th>\n",
              "      <td>Monday</td>\n",
              "      <td>3</td>\n",
              "      <td>2</td>\n",
              "      <td>Slight</td>\n",
              "      <td>Slight</td>\n",
              "      <td>2019-02-18 17:00:00</td>\n",
              "      <td>17</td>\n",
              "      <td>3pm -6pm</td>\n",
              "    </tr>\n",
              "    <tr>\n",
              "      <th>1</th>\n",
              "      <td>Monday</td>\n",
              "      <td>3</td>\n",
              "      <td>2</td>\n",
              "      <td>Slight</td>\n",
              "      <td>Slight</td>\n",
              "      <td>2019-02-18 17:00:00</td>\n",
              "      <td>17</td>\n",
              "      <td>3pm -6pm</td>\n",
              "    </tr>\n",
              "  </tbody>\n",
              "</table>\n",
              "</div>"
            ],
            "text/plain": [
              "  Day_of_Week  Number_of_Casualties  Number_of_Vehicles Casualty_Severity  \\\n",
              "0      Monday                     3                   2            Slight   \n",
              "1      Monday                     3                   2            Slight   \n",
              "\n",
              "  Accident_Severity           date_time  hour_of_day Time_Duration  \n",
              "0            Slight 2019-02-18 17:00:00           17      3pm -6pm  \n",
              "1            Slight 2019-02-18 17:00:00           17      3pm -6pm  "
            ]
          },
          "execution_count": 121,
          "metadata": {},
          "output_type": "execute_result"
        }
      ],
      "source": [
        "cas_df.head(2)"
      ]
    },
    {
      "cell_type": "code",
      "execution_count": 122,
      "metadata": {},
      "outputs": [],
      "source": [
        "\n",
        "# Find out if there is an impact visually on the number of casualties\n",
        "# Bucketize the Sunrise and sunset timestamps \n",
        "\n",
        "\n",
        "cas_df['Is_sunrise_or_sunset'] = np.where(\n",
        "                                    (cas_df['hour_of_day'] >= 6) & (cas_df['hour_of_day'] <= 7), \"Sunrise\", \n",
        "                                np.where(\n",
        "                                    (cas_df['hour_of_day'] >= 18) & (cas_df['hour_of_day'] <= 19), \"Sunset\", \"normal_time\")) "
      ]
    },
    {
      "cell_type": "code",
      "execution_count": 123,
      "metadata": {},
      "outputs": [
        {
          "data": {
            "text/plain": [
              "<AxesSubplot:xlabel='Is_sunrise_or_sunset'>"
            ]
          },
          "execution_count": 123,
          "metadata": {},
          "output_type": "execute_result"
        },
        {
          "data": {
            "image/png": "[encoded data removed]",
            "text/plain": [
              "<Figure size 432x288 with 1 Axes>"
            ]
          },
          "metadata": {
            "needs_background": "light"
          },
          "output_type": "display_data"
        }
      ],
      "source": [
        "cas_df.groupby(['Is_sunrise_or_sunset'])['Number_of_Casualties'].sum().plot()"
      ]
    },
    {
      "cell_type": "code",
      "execution_count": 124,
      "metadata": {},
      "outputs": [
        {
          "name": "stdout",
          "output_type": "stream",
          "text": [
            "1.0\n"
          ]
        }
      ],
      "source": [
        "# testing the significance of the sunrise and sunset effect using Chi-square test\n",
        "\n",
        "cas_df['Is_sunrise_or_sunset'].describe()\n",
        "print(np.percentile(cas_df['Number_of_Casualties'], 50))"
      ]
    },
    {
      "cell_type": "code",
      "execution_count": 126,
      "metadata": {},
      "outputs": [],
      "source": [
        "cas_df['Number_of_Casualties_Percentile'] = np.where(\n",
        "                                    (cas_df['Number_of_Casualties'] <= np.percentile(cas_df['Number_of_Casualties'], 50)), 0, \n",
        "                                np.where(\n",
        "                                    (cas_df['Number_of_Casualties'] > np.percentile(cas_df['Number_of_Casualties'], 50)), 1, \"indifferent\"))\n"
      ]
    },
    {
      "cell_type": "code",
      "execution_count": 129,
      "metadata": {},
      "outputs": [],
      "source": [
        "cas_df['is_sunrise_or_sunset_percentile'] = np.where(\n",
        "    (cas_df['Is_sunrise_or_sunset'] == \"Sunrise\")  | (cas_df['Is_sunrise_or_sunset'] == 'Sunset'), 0, 1)\n"
      ]
    },
    {
      "cell_type": "code",
      "execution_count": 130,
      "metadata": {},
      "outputs": [
        {
          "name": "stdout",
          "output_type": "stream",
          "text": [
            "The degree of freedom is:  1\n"
          ]
        }
      ],
      "source": [
        "chi_df = cas_df[['is_sunrise_or_sunset_percentile',\n",
        "                 'Number_of_Casualties_Percentile']]\n",
        "chi_df['is_sunrise_or_sunset_percentile'] = chi_df['is_sunrise_or_sunset_percentile'].astype(\n",
        "    'int64')\n",
        "chi_df['Number_of_Casualties_Percentile'] = chi_df['Number_of_Casualties_Percentile'].astype(\n",
        "    'int64')\n",
        "\n",
        "stat, p, dof, expected = chi2_contingency(pd.crosstab(\n",
        "    chi_df['is_sunrise_or_sunset_percentile'], chi_df['Number_of_Casualties_Percentile']))\n",
        "print(\"The degree of freedom is: \", dof)\n"
      ]
    },
    {
      "cell_type": "code",
      "execution_count": 131,
      "metadata": {},
      "outputs": [
        {
          "name": "stdout",
          "output_type": "stream",
          "text": [
            "The significance level is:  0.050000000000000044\n",
            "The p-value is:  6.989297036920644e-25\n",
            "The null hypothesis can be rejected, there is an impact on the number of casualties\n"
          ]
        }
      ],
      "source": [
        "prob= 0.95\n",
        "alpha = 1-prob \n",
        "print(\"The significance level is: \", alpha)\n",
        "print(\"The p-value is: \", p)\n",
        "if p <= alpha:\n",
        "    print(\"The null hypothesis can be rejected, there is an impact on the number of casualties\")\n",
        "else:\n",
        "    print('Accept the Null Hypothesis, there is no impact on the number of casualties')\n"
      ]
    },
    {
      "cell_type": "code",
      "execution_count": 132,
      "metadata": {},
      "outputs": [
        {
          "data": {
            "text/plain": [
              "WilcoxonResult(statistic=218435946.0, pvalue=0.0)"
            ]
          },
          "execution_count": 132,
          "metadata": {},
          "output_type": "execute_result"
        }
      ],
      "source": [
        "stats.wilcoxon(chi_df['Number_of_Casualties_Percentile'],\n",
        "               chi_df['is_sunrise_or_sunset_percentile'])\n"
      ]
    },
    {
      "cell_type": "markdown",
      "metadata": {},
      "source": [
        "#### 1f.\tAre there particular types of vehicles (engine capacity, age of vehicle, etc.) that are more frequently involved in road traffic accidents?"
      ]
    },
    {
      "cell_type": "code",
      "execution_count": 145,
      "metadata": {},
      "outputs": [],
      "source": [
        "\n",
        "vehicle_type_dict = {\n",
        "\n",
        "    1: 'Bicycle', 2: 'Motorcycle', 3: 'Motorcycle', 4: 'Motorcycle', 5: 'Motorcycle', 8: 'Car', 9: 'Car', 10: \"Bus/Vans\", 11: \"Bus/Vans\",\n",
        "    16: \"Others\", 17: \"Others\", 18: \"Others\", 19: \"Bus/Vans\", 20: \"Goods Vehicles\",\n",
        "    21: \"Goods Vehicles\", 22: \"Others\", 23: \"Motorcycle\", 90: \"Others\", 97: \"Motorcycle\",\n",
        "    98: \"Goods Vehicles\", -1: \"Data missing or out of range\"\n",
        "    \n",
        "    }\n",
        "\n",
        "cas_df['Vehicle_Type'] = over_df['Vehicle_Type'].replace(vehicle_type_dict)\n"
      ]
    },
    {
      "cell_type": "code",
      "execution_count": 149,
      "metadata": {},
      "outputs": [
        {
          "data": {
            "image/png": "[encoded data removed]",
            "text/plain": [
              "<Figure size 1440x360 with 1 Axes>"
            ]
          },
          "metadata": {
            "needs_background": "light"
          },
          "output_type": "display_data"
        }
      ],
      "source": [
        "plot_count(['Vehicle_Type'], cas_df)"
      ]
    },
    {
      "cell_type": "code",
      "execution_count": 159,
      "metadata": {},
      "outputs": [],
      "source": [
        "\n",
        "#drop missing age values, for clarity \n",
        "over_df.drop(over_df[over_df.Age_of_Vehicle == -1].index, inplace=True)"
      ]
    },
    {
      "cell_type": "code",
      "execution_count": 160,
      "metadata": {},
      "outputs": [
        {
          "data": {
            "text/plain": [
              "count   77,668.00\n",
              "mean         8.33\n",
              "std          5.50\n",
              "min          1.00\n",
              "25%          4.00\n",
              "50%          8.00\n",
              "75%         12.00\n",
              "max         94.00\n",
              "Name: Age_of_Vehicle, dtype: float64"
            ]
          },
          "execution_count": 160,
          "metadata": {},
          "output_type": "execute_result"
        }
      ],
      "source": [
        "over_df.Age_of_Vehicle.describe()\n"
      ]
    },
    {
      "cell_type": "code",
      "execution_count": 172,
      "metadata": {},
      "outputs": [],
      "source": [
        "over_df['Age_range_vehicle'] = pd.qcut(over_df.Age_of_Vehicle, 10, labels=False)"
      ]
    },
    {
      "cell_type": "code",
      "execution_count": 177,
      "metadata": {},
      "outputs": [],
      "source": [
        "over_df['Vehicle_Age_Interval'] = np.where(\n",
        "        (over_df['Age_range_vehicle'] >= 0) & (over_df['Age_range_vehicle'] < 2), \"0-2\",\n",
        "    np.where(\n",
        "        (over_df['Age_range_vehicle'] >= 2) & (over_df['Age_range_vehicle'] < 5), \"2-4\", \n",
        "    np.where(\n",
        "        (over_df['Age_range_vehicle'] >= 5) & (over_df['Age_range_vehicle'] < 8), \"4-8\", \"8+\"\n",
        "        )))\n"
      ]
    },
    {
      "cell_type": "code",
      "execution_count": 179,
      "metadata": {},
      "outputs": [
        {
          "data": {
            "image/png": "[encoded data removed]",
            "text/plain": [
              "<Figure size 1440x360 with 1 Axes>"
            ]
          },
          "metadata": {
            "needs_background": "light"
          },
          "output_type": "display_data"
        }
      ],
      "source": [
        "plot_count(['Vehicle_Age_Interval'], over_df)"
      ]
    },
    {
      "cell_type": "markdown",
      "metadata": {},
      "source": []
    }
  ],
  "metadata": {
    "colab": {
      "collapsed_sections": [],
      "name": "Data Mining.ipynb",
      "provenance": []
    },
    "kernelspec": {
      "display_name": "analytics_env",
      "language": "python",
      "name": "analytics_env"
    },
    "language_info": {
      "codemirror_mode": {
        "name": "ipython",
        "version": 3
      },
      "file_extension": ".py",
      "mimetype": "text/x-python",
      "name": "python",
      "nbconvert_exporter": "python",
      "pygments_lexer": "ipython3",
      "version": "3.8.12"
    }
  },
  "nbformat": 4,
  "nbformat_minor": 0
}
